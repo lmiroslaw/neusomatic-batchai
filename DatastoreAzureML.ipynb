{
 "cells": [
  {
   "cell_type": "markdown",
   "metadata": {},
   "source": [
    "## **Import statements**"
   ]
  },
  {
   "cell_type": "code",
   "execution_count": 5,
   "metadata": {},
   "outputs": [],
   "source": [
    "%reload_ext autoreload\n",
    "%autoreload 2\n",
    "\n",
    "import matplotlib.pyplot as plt\n",
    "import numpy as np\n",
    "import os"
   ]
  },
  {
   "cell_type": "markdown",
   "metadata": {},
   "source": [
    "## **Configure the Azure ML Datastore**"
   ]
  },
  {
   "cell_type": "code",
   "execution_count": 1,
   "metadata": {},
   "outputs": [
    {
     "name": "stdout",
     "output_type": "stream",
     "text": [
      "You are currently using version 1.0.10 of the Azure ML SDK\n",
      "Found the config file in: /home/lukasz/notebooks/azureml/python/aml_config/config.json\n"
     ]
    }
   ],
   "source": [
    "# Import Azure ML API SDK. The SDK is installed implicitly with the latest\n",
    "# version of the CLI in your default python environment\n",
    "import azureml.core\n",
    "from azureml.core import Workspace, Datastore\n",
    "\n",
    "print(\"You are currently using version\", azureml.core.VERSION, \"of the Azure ML SDK\")\n",
    "\n",
    "#Currently Lukasz' workspace  \n",
    "ws = Workspace.from_config(path='/home/lukasz/notebooks/azureml/python/aml_config/config.json')\n"
   ]
  },
  {
   "cell_type": "code",
   "execution_count": 2,
   "metadata": {},
   "outputs": [],
   "source": [
    "# get azure storage key\n",
    "#Assuming there is a single line with a key  \n",
    "def get_storage_key(file):\n",
    "    File = open(file, 'r')\n",
    "    return File.readlines()[0]\n",
    "    "
   ]
  },
  {
   "cell_type": "code",
   "execution_count": 3,
   "metadata": {},
   "outputs": [
    {
     "name": "stdout",
     "output_type": "stream",
     "text": [
      "...",
      "\n"
     ]
    }
   ],
   "source": [
    "my_storage_key = get_storage_key('/home/lukasz/notebooks/azureml/python/azurestoragekey.txt')\n",
    "print(my_storage_key)"
   ]
  },
  {
   "cell_type": "code",
   "execution_count": 6,
   "metadata": {},
   "outputs": [
    {
     "name": "stdout",
     "output_type": "stream",
     "text": [
      "Created  /home/cerndev/common/azure/data\n",
      "Created  /home/cerndev/common/azure/data/weights\n",
      "Created  /home/cerndev/common/azure/data/rphi\n",
      "Created  /home/cerndev/common/azure/data/tracks\n"
     ]
    }
   ],
   "source": [
    "#Setup the data source\n",
    "\n",
    "# Current directory structure: \n",
    "#- data\n",
    "# -- weights\n",
    "# -- rphi\n",
    "# -- tracks\n",
    "data_folder = os.path.join(os.getcwd(), 'data')\n",
    "weights_folder = os.path.join(data_folder, 'weights')\n",
    "rphi_folder = os.path.join(data_folder, 'rphi')\n",
    "tracks_folder = os.path.join(data_folder, 'tracks')\n",
    "\n",
    "os.makedirs(data_folder, exist_ok = True)\n",
    "\n",
    "print (\"Created \", data_folder)\n",
    "print (\"Created \", weights_folder)\n",
    "print (\"Created \", rphi_folder)\n",
    "print (\"Created \", tracks_folder)\n",
    "#TODO: copy input files to this folder\n"
   ]
  },
  {
   "cell_type": "markdown",
   "metadata": {},
   "source": [
    "#### Choose the datastore\n",
    "* Use the default datastore\n",
    "* Register your own datastore\n"
   ]
  },
  {
   "cell_type": "code",
   "execution_count": 10,
   "metadata": {},
   "outputs": [
    {
     "name": "stderr",
     "output_type": "stream",
     "text": [
      "Target already exists. Skipping upload for weights/best_seed_m31_m27-4x129.pt\n",
      "Target already exists. Skipping upload for weights/best_seed_m47_m45-4x129.pt\n",
      "Target already exists. Skipping upload for weights/best_seed_m41_m37-4x129.pt\n",
      "Target already exists. Skipping upload for weights/best_seed_m18_m14-4x129.pt\n",
      "Target already exists. Skipping upload for weights/best_seed_m12_m10-4x129.pt\n",
      "Target already exists. Skipping upload for weights/best_seed_m4_m2-4x129.pt\n",
      "Target already exists. Skipping upload for weights/best_seed_m19_m17-4x129.pt\n",
      "Target already exists. Skipping upload for weights/best_seed_m8_m12-4x129.pt\n",
      "Target already exists. Skipping upload for weights/best_seed_m23_m19-4x129.pt\n",
      "Target already exists. Skipping upload for weights/best_seed_m10_m8-4x129.pt\n",
      "Target already exists. Skipping upload for weights/best_seed_m32_m30-4x129.pt\n",
      "Target already exists. Skipping upload for weights/best_seed_m10_m6-4x129.pt\n",
      "Target already exists. Skipping upload for weights/best_seed_m36_m32-4x129.pt\n",
      "Target already exists. Skipping upload for weights/best_seed_m40_m38-4x129.pt\n",
      "Target already exists. Skipping upload for weights/best_seed_m25_m21-4x129.pt\n",
      "Target already exists. Skipping upload for weights/best_seed_m25_m23-4x129.pt\n",
      "Target already exists. Skipping upload for weights/best_seed_m24_m20-4x129.pt\n",
      "Target already exists. Skipping upload for weights/best_seed_m31_m29-4x129.pt\n",
      "Target already exists. Skipping upload for weights/best_seed_m37_m33-4x129.pt\n",
      "Target already exists. Skipping upload for weights/best_seed_m15_m19-4x129.pt\n",
      "Target already exists. Skipping upload for weights/best_seed_m20_m16-4x129.pt\n",
      "Target already exists. Skipping upload for weights/best_seed_m14_m18-4x129.pt\n",
      "Target already exists. Skipping upload for weights/best_seed_m22_m20-4x129.pt\n",
      "Target already exists. Skipping upload for weights/best_seed_m42_m40-4x129.pt\n",
      "Target already exists. Skipping upload for weights/best_seed_m13_m17-4x129.pt\n",
      "Target already exists. Skipping upload for weights/best_seed_m7_m11-4x129.pt\n",
      "Target already exists. Skipping upload for weights/best_seed_m6_m4-4x129.pt\n",
      "Target already exists. Skipping upload for weights/best_seed_m34_m30-4x129.pt\n",
      "Target already exists. Skipping upload for weights/best_seed_m2_m6-4x129.pt\n",
      "Target already exists. Skipping upload for weights/best_seed_m12_m8-4x129.pt\n",
      "Target already exists. Skipping upload for weights/best_seed_m14_m10-4x129.pt\n",
      "Target already exists. Skipping upload for weights/best_seed_m25_m27-4x129.pt\n",
      "Target already exists. Skipping upload for weights/best_seed_m14_m12-4x129.pt\n",
      "Target already exists. Skipping upload for weights/best_seed_m41_m39-4x129.pt\n",
      "Target already exists. Skipping upload for weights/best_seed_m28_m26-4x129.pt\n",
      "Target already exists. Skipping upload for weights/best_seed_m6_m8-4x129.pt\n",
      "Target already exists. Skipping upload for weights/best_seed_m10_m12-4x129.pt\n",
      "Target already exists. Skipping upload for weights/best_seed_m8_m6-4x129.pt\n",
      "Target already exists. Skipping upload for weights/best_seed_m16_m14-4x129.pt\n",
      "Target already exists. Skipping upload for weights/best_seed_m36_m34-4x129.pt\n",
      "Target already exists. Skipping upload for weights/best_seed_m21_m17-4x129.pt\n",
      "Target already exists. Skipping upload for weights/best_seed_m48_m46-4x129.pt\n",
      "Target already exists. Skipping upload for weights/best_seed_m17_m15-4x129.pt\n",
      "Target already exists. Skipping upload for weights/best_seed_m6_m10-4x129.pt\n",
      "Target already exists. Skipping upload for weights/best_seed_m17_m19-4x129.pt\n",
      "Target already exists. Skipping upload for weights/best_seed_m46_m42-4x129.pt\n",
      "Target already exists. Skipping upload for weights/best_seed_m44_m40-4x129.pt\n",
      "Target already exists. Skipping upload for weights/best_seed_m2_m4-4x129.pt\n",
      "Target already exists. Skipping upload for weights/best_seed_m26_m22-4x129.pt\n",
      "Target already exists. Skipping upload for weights/best_seed_m42_m38-4x129.pt\n",
      "Target already exists. Skipping upload for weights/best_seed_m17_m13-4x129.pt\n",
      "Target already exists. Skipping upload for weights/best_seed_m0_m2-4x129.pt\n",
      "Target already exists. Skipping upload for weights/best_seed_m26_m24-4x129.pt\n",
      "Target already exists. Skipping upload for weights/best_seed_m20_m18-4x129.pt\n",
      "Target already exists. Skipping upload for weights/best_seed_m33_m31-4x129.pt\n",
      "Target already exists. Skipping upload for weights/best_seed_m23_m21-4x129.pt\n",
      "Target already exists. Skipping upload for weights/best_seed_m3_m7-4x129.pt\n",
      "Target already exists. Skipping upload for weights/best_seed_m28_m24-4x129.pt\n",
      "Target already exists. Skipping upload for weights/best_seed_m38_m36-4x129.pt\n",
      "Target already exists. Skipping upload for weights/best_seed_m22_m18-4x129.pt\n",
      "Target already exists. Skipping upload for weights/best_seed_m45_m41-4x129.pt\n",
      "Target already exists. Skipping upload for weights/best_seed_m4_m6-4x129.pt\n",
      "Target already exists. Skipping upload for weights/best_seed_m11_m15-4x129.pt\n",
      "Target already exists. Skipping upload for weights/best_seed_m9_m13-4x129.pt\n",
      "Target already exists. Skipping upload for weights/best_seed_m44_m42-4x129.pt\n",
      "Target already exists. Skipping upload for weights/best_seed_m15_m13-4x129.pt\n",
      "Target already exists. Skipping upload for weights/best_seed_m49_m47-4x129.pt\n",
      "Target already exists. Skipping upload for weights/best_seed_m51_m47-4x129.pt\n",
      "Target already exists. Skipping upload for weights/best_seed_m47_m43-4x129.pt\n",
      "Target already exists. Skipping upload for weights/best_seed_m7_m9-4x129.pt\n",
      "Target already exists. Skipping upload for weights/best_seed_m37_m35-4x129.pt\n",
      "Target already exists. Skipping upload for weights/best_seed_m19_m23-4x129.pt\n",
      "Target already exists. Skipping upload for weights/best_seed_m21_m19-4x129.pt\n",
      "Target already exists. Skipping upload for weights/best_seed_m12_m16-4x129.pt\n",
      "Target already exists. Skipping upload for weights/best_seed_m12_m14-4x129.pt\n",
      "Target already exists. Skipping upload for weights/best_seed_m11_m13-4x129.pt\n",
      "Target already exists. Skipping upload for weights/best_seed_m29_m27-4x129.pt\n",
      "Target already exists. Skipping upload for weights/best_seed_m1_m5-4x129.pt\n",
      "Target already exists. Skipping upload for weights/best_seed_m46_m44-4x129.pt\n",
      "Target already exists. Skipping upload for weights/best_seed_m50_m46-4x129.pt\n",
      "Target already exists. Skipping upload for weights/best_seed_m3_m5-4x129.pt\n",
      "Target already exists. Skipping upload for weights/best_seed_m35_m33-4x129.pt\n",
      "Target already exists. Skipping upload for weights/best_seed_m8_m10-4x129.pt\n",
      "Target already exists. Skipping upload for weights/best_seed_m18_m22-4x129.pt\n",
      "Target already exists. Skipping upload for weights/best_seed_m34_m32-4x129.pt\n",
      "Target already exists. Skipping upload for weights/best_seed_m16_m18-4x129.pt\n",
      "Target already exists. Skipping upload for weights/best_seed_m43_m41-4x129.pt\n",
      "Target already exists. Skipping upload for weights/best_seed_m4_m0-4x129.pt\n",
      "Target already exists. Skipping upload for weights/best_seed_m48_m44-4x129.pt\n",
      "Target already exists. Skipping upload for weights/best_seed_m15_m11-4x129.pt\n",
      "Target already exists. Skipping upload for weights/best_seed_m5_m7-4x129.pt\n",
      "Target already exists. Skipping upload for weights/best_seed_m10_m14-4x129.pt\n",
      "Target already exists. Skipping upload for weights/best_seed_m49_m45-4x129.pt\n",
      "Target already exists. Skipping upload for weights/best_seed_m1_m3-4x129.pt\n",
      "Target already exists. Skipping upload for weights/best_seed_m45_m43-4x129.pt\n",
      "Target already exists. Skipping upload for weights/best_seed_m13_m15-4x129.pt\n",
      "Target already exists. Skipping upload for weights/best_seed_m39_m35-4x129.pt\n",
      "Target already exists. Skipping upload for weights/best_seed_m8_m4-4x129.pt\n",
      "Target already exists. Skipping upload for weights/best_seed_m35_m31-4x129.pt\n",
      "Target already exists. Skipping upload for weights/best_seed_m0_m4-4x129.pt\n",
      "Target already exists. Skipping upload for weights/best_seed_m29_m25-4x129.pt\n",
      "Target already exists. Skipping upload for weights/best_seed_m30_m28-4x129.pt\n",
      "Target already exists. Skipping upload for weights/best_seed_m9_m11-4x129.pt\n",
      "Target already exists. Skipping upload for weights/best_seed_m6_m2-4x129.pt\n",
      "Target already exists. Skipping upload for weights/best_seed_m38_m34-4x129.pt\n",
      "Target already exists. Skipping upload for weights/best_seed_m15_m17-4x129.pt\n"
     ]
    },
    {
     "name": "stderr",
     "output_type": "stream",
     "text": [
      "Target already exists. Skipping upload for weights/best_seed_m43_m39-4x129.pt\n",
      "Target already exists. Skipping upload for weights/best_seed_m4_m8-4x129.pt\n",
      "Target already exists. Skipping upload for weights/best_seed_m14_m16-4x129.pt\n",
      "Target already exists. Skipping upload for weights/reco_tracks_m52_m40_evt100.pt\n",
      "Target already exists. Skipping upload for weights/best_seed_m27_m25-4x129.pt\n",
      "Target already exists. Skipping upload for weights/best_seed_m5_m9-4x129.pt\n",
      "Target already exists. Skipping upload for weights/best_seed_m32_m28-4x129.pt\n",
      "Target already exists. Skipping upload for weights/best_seed_m33_m29-4x129.pt\n",
      "Target already exists. Skipping upload for weights/best_seed_m39_m37-4x129.pt\n",
      "Target already exists. Skipping upload for weights/best_seed_m50_m48-4x129.pt\n",
      "Target already exists. Skipping upload for weights/best_seed_m16_m20-4x129.pt\n",
      "Target already exists. Skipping upload for weights/best_seed_m19_m15-4x129.pt\n",
      "Target already exists. Skipping upload for weights/best_seed_m51_m49-4x129.pt\n",
      "Target already exists. Skipping upload for weights/best_seed_m40_m36-4x129.pt\n",
      "Target already exists. Skipping upload for weights/best_seed_m18_m16-4x129.pt\n",
      "Target already exists. Skipping upload for weights/best_seed_m30_m26-4x129.pt\n",
      "Target already exists. Skipping upload for weights/best_seed_m24_m22-4x129.pt\n",
      "Target already exists. Skipping upload for weights/best_seed_m17_m21-4x129.pt\n",
      "Target already exists. Skipping upload for weights/best_seed_m27_m23-4x129.pt\n",
      "Target already exists. Skipping upload for weights/best_seed_m2_m0-4x129.pt\n",
      "Target already exists. Skipping upload for weights/best_seed_m19_m21-4x129.pt\n",
      "Target already exists. Skipping upload for weights/best_seed_m16_m12-4x129.pt\n"
     ]
    },
    {
     "name": "stdout",
     "output_type": "stream",
     "text": [
      "Uploaded to  AzureBlob . Account Name: lhcbstorage . Container Name: weights\n"
     ]
    }
   ],
   "source": [
    "#Set up the cloud storage\n",
    "#ds = ws.get_default_datastore()\n",
    "\n",
    "#Load weights\n",
    "source_folder=weights_folder\n",
    "container_name = 'weights'\n",
    "dsname='ds_weights'\n",
    "my_storage_account_name = 'lhcbstorage'\n",
    "\n",
    "ds_weights = Datastore.register_azure_blob_container(workspace=ws, \n",
    "                                             datastore_name=dsname, \n",
    "                                             container_name=container_name,\n",
    "                                             account_name=my_storage_account_name, \n",
    "                                             account_key=my_storage_key,\n",
    "                                             overwrite=True,\n",
    "                                             create_if_not_exists=True)\n",
    "\n",
    "#ds.upload(src_dir=data_folder, target_path='lhcb_data', overwrite=True, show_progress=True)\n",
    "ds_weights.upload(src_dir=source_folder, target_path=container_name, overwrite=False, show_progress=True)\n",
    "\n",
    "print('Uploaded to ', ds_weights.datastore_type, '. Account Name:', ds_weights.account_name, '. Container Name:', ds_weights.container_name)"
   ]
  },
  {
   "cell_type": "code",
   "execution_count": 11,
   "metadata": {},
   "outputs": [
    {
     "name": "stderr",
     "output_type": "stream",
     "text": [
      "Target already exists. Skipping upload for tracks/FullTrackingTruthTracks.npy\n"
     ]
    },
    {
     "name": "stdout",
     "output_type": "stream",
     "text": [
      "Uploaded to  AzureBlob . Account Name: lhcbstorage . Container Name: tracks\n"
     ]
    }
   ],
   "source": [
    "#Load tracks\n",
    "source_folder=tracks_folder\n",
    "container_name = 'tracks'\n",
    "dsname='ds_tracks'\n",
    "my_storage_account_name = 'lhcbstorage'\n",
    "\n",
    "ds_tracks = Datastore.register_azure_blob_container(workspace=ws, \n",
    "                                             datastore_name=dsname, \n",
    "                                             container_name=container_name,\n",
    "                                             account_name=my_storage_account_name, \n",
    "                                             account_key=my_storage_key,\n",
    "                                             overwrite=True,\n",
    "                                             create_if_not_exists=True)\n",
    "\n",
    "ds_tracks.upload(src_dir=source_folder, target_path=container_name, overwrite=False, show_progress=True)\n",
    "\n",
    "print('Uploaded to ', ds_tracks.datastore_type, '. Account Name:', ds_tracks.account_name, '. Container Name:', ds_tracks.container_name)"
   ]
  },
  {
   "cell_type": "code",
   "execution_count": 14,
   "metadata": {},
   "outputs": [
    {
     "name": "stdout",
     "output_type": "stream",
     "text": [
      "Uploading /home/cerndev/common/azure/data/rphi/rphi_eval_module_48.dat\n",
      "Uploading /home/cerndev/common/azure/data/rphi/rphi_eval_module_33.dat\n",
      "Uploading /home/cerndev/common/azure/data/rphi/rphi_eval_module_0.dat\n",
      "Uploading /home/cerndev/common/azure/data/rphi/rphi_eval_module_28.dat\n",
      "Uploading /home/cerndev/common/azure/data/rphi/rphi_eval_module_45.dat\n",
      "Uploading /home/cerndev/common/azure/data/rphi/rphi_eval_module_26.dat\n",
      "Uploading /home/cerndev/common/azure/data/rphi/rphi_eval_module_19.dat\n",
      "Uploading /home/cerndev/common/azure/data/rphi/rphi_eval_module_32.dat\n",
      "Uploading /home/cerndev/common/azure/data/rphi/rphi_eval_module_47.dat\n",
      "Uploading /home/cerndev/common/azure/data/rphi/rphi_eval_module_16.dat\n",
      "Uploading /home/cerndev/common/azure/data/rphi/rphi_eval_module_1.dat\n",
      "Uploading /home/cerndev/common/azure/data/rphi/rphi_eval_module_6.dat\n",
      "Uploading /home/cerndev/common/azure/data/rphi/rphi_eval_module_31.dat\n",
      "Uploading /home/cerndev/common/azure/data/rphi/rphi_eval_module_5.dat\n",
      "Uploading /home/cerndev/common/azure/data/rphi/rphi_eval_module_15.dat\n",
      "Uploading /home/cerndev/common/azure/data/rphi/rphi_eval_module_2.dat\n",
      "Uploading /home/cerndev/common/azure/data/rphi/rphi_eval_module_39.dat\n",
      "Uploading /home/cerndev/common/azure/data/rphi/rphi_eval_module_44.dat\n",
      "Uploading /home/cerndev/common/azure/data/rphi/rphi_eval_module_43.dat\n",
      "Uploading /home/cerndev/common/azure/data/rphi/rphi_eval_module_38.dat\n",
      "Uploading /home/cerndev/common/azure/data/rphi/rphi_eval_module_29.dat\n",
      "Uploading /home/cerndev/common/azure/data/rphi/rphi_eval_module_22.dat\n",
      "Uploading /home/cerndev/common/azure/data/rphi/rphi_eval_module_41.dat\n",
      "Uploading /home/cerndev/common/azure/data/rphi/rphi_eval_module_49.dat\n",
      "Uploading /home/cerndev/common/azure/data/rphi/rphi_eval_module_30.dat\n",
      "Uploading /home/cerndev/common/azure/data/rphi/rphi_eval_module_18.dat\n",
      "Uploading /home/cerndev/common/azure/data/rphi/rphi_eval_module_8.dat\n",
      "Uploading /home/cerndev/common/azure/data/rphi/rphi_eval_module_46.dat\n",
      "Uploading /home/cerndev/common/azure/data/rphi/rphi_eval_module_20.dat\n",
      "Uploading /home/cerndev/common/azure/data/rphi/rphi_eval_module_10.dat\n",
      "Uploading /home/cerndev/common/azure/data/rphi/rphi_eval_module_7.dat\n",
      "Uploading /home/cerndev/common/azure/data/rphi/rphi_eval_module_25.dat\n",
      "Uploaded /home/cerndev/common/azure/data/rphi/rphi_eval_module_19.dat, 1 files out of an estimated total of 52\n",
      "Uploaded /home/cerndev/common/azure/data/rphi/rphi_eval_module_15.dat, 2 files out of an estimated total of 52\n",
      "Uploading /home/cerndev/common/azure/data/rphi/rphi_eval_module_11.dat\n",
      "Uploading /home/cerndev/common/azure/data/rphi/rphi_eval_module_12.dat\n",
      "Uploaded /home/cerndev/common/azure/data/rphi/rphi_eval_module_45.dat, 3 files out of an estimated total of 52\n",
      "Uploading /home/cerndev/common/azure/data/rphi/rphi_eval_module_13.dat\n",
      "Uploaded /home/cerndev/common/azure/data/rphi/rphi_eval_module_43.dat, 4 files out of an estimated total of 52\n",
      "Uploading /home/cerndev/common/azure/data/rphi/rphi_eval_module_14.dat\n",
      "Uploaded /home/cerndev/common/azure/data/rphi/rphi_eval_module_16.dat, 5 files out of an estimated total of 52\n",
      "Uploading /home/cerndev/common/azure/data/rphi/rphi_eval_module_17.dat\n",
      "Uploaded /home/cerndev/common/azure/data/rphi/rphi_eval_module_47.dat, 6 files out of an estimated total of 52\n",
      "Uploading /home/cerndev/common/azure/data/rphi/rphi_eval_module_21.dat\n",
      "Uploaded /home/cerndev/common/azure/data/rphi/rphi_eval_module_44.dat, 7 files out of an estimated total of 52\n",
      "Uploading /home/cerndev/common/azure/data/rphi/rphi_eval_module_23.dat\n",
      "Uploaded /home/cerndev/common/azure/data/rphi/rphi_eval_module_41.dat, 8 files out of an estimated total of 52\n",
      "Uploading /home/cerndev/common/azure/data/rphi/rphi_eval_module_24.dat\n",
      "Uploaded /home/cerndev/common/azure/data/rphi/rphi_eval_module_26.dat, 9 files out of an estimated total of 52\n",
      "Uploading /home/cerndev/common/azure/data/rphi/rphi_eval_module_27.dat\n",
      "Uploaded /home/cerndev/common/azure/data/rphi/rphi_eval_module_0.dat, 10 files out of an estimated total of 52\n",
      "Uploading /home/cerndev/common/azure/data/rphi/rphi_eval_module_3.dat\n",
      "Uploaded /home/cerndev/common/azure/data/rphi/rphi_eval_module_10.dat, 11 files out of an estimated total of 52\n",
      "Uploading /home/cerndev/common/azure/data/rphi/rphi_eval_module_34.dat\n",
      "Uploaded /home/cerndev/common/azure/data/rphi/rphi_eval_module_46.dat, 12 files out of an estimated total of 52\n",
      "Uploading /home/cerndev/common/azure/data/rphi/rphi_eval_module_35.dat\n",
      "Uploaded /home/cerndev/common/azure/data/rphi/rphi_eval_module_48.dat, 13 files out of an estimated total of 52\n",
      "Uploading /home/cerndev/common/azure/data/rphi/rphi_eval_module_36.dat\n",
      "Uploaded /home/cerndev/common/azure/data/rphi/rphi_eval_module_39.dat, 14 files out of an estimated total of 52\n",
      "Uploading /home/cerndev/common/azure/data/rphi/rphi_eval_module_37.dat\n",
      "Uploaded /home/cerndev/common/azure/data/rphi/rphi_eval_module_49.dat, 15 files out of an estimated total of 52\n",
      "Uploading /home/cerndev/common/azure/data/rphi/rphi_eval_module_4.dat\n",
      "Uploaded /home/cerndev/common/azure/data/rphi/rphi_eval_module_5.dat, 16 files out of an estimated total of 52\n",
      "Uploading /home/cerndev/common/azure/data/rphi/rphi_eval_module_40.dat\n",
      "Uploaded /home/cerndev/common/azure/data/rphi/rphi_eval_module_18.dat, 17 files out of an estimated total of 52\n",
      "Uploading /home/cerndev/common/azure/data/rphi/rphi_eval_module_42.dat\n",
      "Uploaded /home/cerndev/common/azure/data/rphi/rphi_eval_module_2.dat, 18 files out of an estimated total of 52\n",
      "Uploading /home/cerndev/common/azure/data/rphi/rphi_eval_module_50.dat\n",
      "Uploaded /home/cerndev/common/azure/data/rphi/rphi_eval_module_22.dat, 19 files out of an estimated total of 52\n",
      "Uploaded /home/cerndev/common/azure/data/rphi/rphi_eval_module_20.dat, 20 files out of an estimated total of 52\n",
      "Uploaded /home/cerndev/common/azure/data/rphi/rphi_eval_module_25.dat, 21 files out of an estimated total of 52\n",
      "Uploading /home/cerndev/common/azure/data/rphi/rphi_eval_module_51.dat\n",
      "Uploading /home/cerndev/common/azure/data/rphi/rphi_eval_module_9.dat\n",
      "Uploaded /home/cerndev/common/azure/data/rphi/rphi_eval_module_8.dat, 22 files out of an estimated total of 52\n",
      "Uploaded /home/cerndev/common/azure/data/rphi/rphi_eval_module_7.dat, 23 files out of an estimated total of 52\n",
      "Uploaded /home/cerndev/common/azure/data/rphi/rphi_eval_module_6.dat, 24 files out of an estimated total of 52\n",
      "Uploaded /home/cerndev/common/azure/data/rphi/rphi_eval_module_33.dat, 25 files out of an estimated total of 52\n",
      "Uploaded /home/cerndev/common/azure/data/rphi/rphi_eval_module_32.dat, 26 files out of an estimated total of 52\n",
      "Uploaded /home/cerndev/common/azure/data/rphi/rphi_eval_module_28.dat, 27 files out of an estimated total of 52\n",
      "Uploaded /home/cerndev/common/azure/data/rphi/rphi_eval_module_1.dat, 28 files out of an estimated total of 52\n",
      "Uploaded /home/cerndev/common/azure/data/rphi/rphi_eval_module_38.dat, 29 files out of an estimated total of 52\n",
      "Uploaded /home/cerndev/common/azure/data/rphi/rphi_eval_module_30.dat, 30 files out of an estimated total of 52\n",
      "Uploaded /home/cerndev/common/azure/data/rphi/rphi_eval_module_29.dat, 31 files out of an estimated total of 52\n",
      "Uploaded /home/cerndev/common/azure/data/rphi/rphi_eval_module_31.dat, 32 files out of an estimated total of 52\n",
      "Uploaded /home/cerndev/common/azure/data/rphi/rphi_eval_module_4.dat, 33 files out of an estimated total of 52\n",
      "Uploaded /home/cerndev/common/azure/data/rphi/rphi_eval_module_40.dat, 34 files out of an estimated total of 52\n",
      "Uploaded /home/cerndev/common/azure/data/rphi/rphi_eval_module_50.dat, 35 files out of an estimated total of 52\n",
      "Uploaded /home/cerndev/common/azure/data/rphi/rphi_eval_module_51.dat, 36 files out of an estimated total of 52\n",
      "Uploaded /home/cerndev/common/azure/data/rphi/rphi_eval_module_42.dat, 37 files out of an estimated total of 52\n",
      "Uploaded /home/cerndev/common/azure/data/rphi/rphi_eval_module_9.dat, 38 files out of an estimated total of 52\n",
      "Uploaded /home/cerndev/common/azure/data/rphi/rphi_eval_module_21.dat, 39 files out of an estimated total of 52\n",
      "Uploaded /home/cerndev/common/azure/data/rphi/rphi_eval_module_14.dat, 40 files out of an estimated total of 52\n",
      "Uploaded /home/cerndev/common/azure/data/rphi/rphi_eval_module_23.dat, 41 files out of an estimated total of 52\n"
     ]
    },
    {
     "name": "stdout",
     "output_type": "stream",
     "text": [
      "Uploaded /home/cerndev/common/azure/data/rphi/rphi_eval_module_17.dat, 42 files out of an estimated total of 52\n",
      "Uploaded /home/cerndev/common/azure/data/rphi/rphi_eval_module_13.dat, 43 files out of an estimated total of 52\n",
      "Uploaded /home/cerndev/common/azure/data/rphi/rphi_eval_module_11.dat, 44 files out of an estimated total of 52\n",
      "Uploaded /home/cerndev/common/azure/data/rphi/rphi_eval_module_36.dat, 45 files out of an estimated total of 52\n",
      "Uploaded /home/cerndev/common/azure/data/rphi/rphi_eval_module_24.dat, 46 files out of an estimated total of 52\n",
      "Uploaded /home/cerndev/common/azure/data/rphi/rphi_eval_module_27.dat, 47 files out of an estimated total of 52\n",
      "Uploaded /home/cerndev/common/azure/data/rphi/rphi_eval_module_34.dat, 48 files out of an estimated total of 52\n",
      "Uploaded /home/cerndev/common/azure/data/rphi/rphi_eval_module_3.dat, 49 files out of an estimated total of 52\n",
      "Uploaded /home/cerndev/common/azure/data/rphi/rphi_eval_module_12.dat, 50 files out of an estimated total of 52\n",
      "Uploaded /home/cerndev/common/azure/data/rphi/rphi_eval_module_37.dat, 51 files out of an estimated total of 52\n",
      "Uploaded /home/cerndev/common/azure/data/rphi/rphi_eval_module_35.dat, 52 files out of an estimated total of 52\n",
      "Uploaded to  AzureBlob . Account Name: lhcbstorage . Container Name: rphi\n"
     ]
    }
   ],
   "source": [
    "#Load rphi data\n",
    "source_folder=rphi_folder\n",
    "container_name = 'rphi'\n",
    "dsname='ds_rphi'\n",
    "my_storage_account_name = 'lhcbstorage'\n",
    "\n",
    "ds_rphi = Datastore.register_azure_blob_container(workspace=ws, \n",
    "                                             datastore_name=dsname, \n",
    "                                             container_name=container_name,\n",
    "                                             account_name=my_storage_account_name, \n",
    "                                             account_key=my_storage_key,\n",
    "                                             overwrite=True,\n",
    "                                             create_if_not_exists=True)\n",
    "\n",
    " \n",
    "ds_rphi.upload(src_dir=source_folder, target_path=container_name, overwrite=False, show_progress=True)\n",
    "\n",
    "print('Uploaded to ', ds_rphi.datastore_type, '. Account Name:', ds_rphi.account_name, '. Container Name:', ds_rphi.container_name)"
   ]
  },
  {
   "cell_type": "code",
   "execution_count": null,
   "metadata": {},
   "outputs": [],
   "source": []
  },
  {
   "cell_type": "code",
   "execution_count": null,
   "metadata": {},
   "outputs": [],
   "source": []
  }
 ],
 "metadata": {
  "kernelspec": {
   "display_name": "Python 3",
   "language": "python",
   "name": "python3"
  },
  "language_info": {
   "codemirror_mode": {
    "name": "ipython",
    "version": 3
   },
   "file_extension": ".py",
   "mimetype": "text/x-python",
   "name": "python",
   "nbconvert_exporter": "python",
   "pygments_lexer": "ipython3",
   "version": "3.7.2"
  }
 },
 "nbformat": 4,
 "nbformat_minor": 2
}
